{
  "nbformat": 4,
  "nbformat_minor": 0,
  "metadata": {
    "colab": {
      "private_outputs": true,
      "provenance": []
    },
    "kernelspec": {
      "name": "python3",
      "display_name": "Python 3"
    },
    "language_info": {
      "name": "python"
    }
  },
  "cells": [
    {
      "cell_type": "code",
      "source": [
        "pip install opencv-python"
      ],
      "metadata": {
        "id": "eKMyjvAuUnDa"
      },
      "execution_count": null,
      "outputs": []
    },
    {
      "cell_type": "code",
      "source": [
        "from google.colab import files\n",
        "\n",
        "# Use the files.upload() function to upload an image file\n",
        "uploaded = files.upload()\n"
      ],
      "metadata": {
        "id": "PdGOZ6JAU2Ue"
      },
      "execution_count": null,
      "outputs": []
    },
    {
      "cell_type": "code",
      "execution_count": null,
      "metadata": {
        "id": "n6hGKwv319XV"
      },
      "outputs": [],
      "source": [
        "import numpy as np\n",
        "import cv2\n",
        "\n",
        "# Define the 3x3 kernel\n",
        "kernel = np.array([[-1, -1, -1], [-1, 8, -1], [-1, -1, -1]])\n",
        "\n",
        "# Load the input image\n",
        "img = cv2.imread(\"dog-puppy-on-garden-royalty-free-image-1586966191.jpg\")\n",
        "\n",
        "# Convert the image to grayscale\n",
        "gray = cv2.cvtColor(img, cv2.COLOR_BGR2GRAY)\n",
        "\n",
        "# Apply the convolution operation\n",
        "result = cv2.filter2D(gray, -1, kernel)\n",
        "\n",
        "\n",
        "import cv2\n",
        "from google.colab.patches import cv2_imshow\n",
        "\n",
        "# Load an image using OpenCV\n",
        "\n",
        "# Display the image using cv2_imshow\n",
        "cv2_imshow(result) \n",
        "\n"
      ]
    },
    {
      "cell_type": "code",
      "source": [
        "import numpy as np\n",
        "import cv2\n",
        "from google.colab import files\n",
        "from IPython.display import display\n",
        "import ipywidgets as widgets\n",
        "\n",
        "# Define the 3x3 kernel\n",
        "kernel = np.array([[-1, -1, -1], [-1, 8, -1], [-1, -1, -1]])\n",
        "\n",
        "# Upload an image file\n",
        "uploaded_file = files.upload()\n",
        "\n",
        "# Load the input image\n",
        "img = cv2.imread(list(uploaded_file.keys())[0])\n",
        "\n",
        "# Convert the image to grayscale\n",
        "gray = cv2.cvtColor(img, cv2.COLOR_BGR2GRAY)\n",
        "\n",
        "# Apply the convolution operation\n",
        "result = cv2.filter2D(gray, -1, kernel)\n",
        "\n",
        "# Create a widget for the original image\n",
        "original_widget = widgets.Image(value=uploaded_file[list(uploaded_file.keys())[0]], format='jpg')\n",
        "\n",
        "# Create a widget for the result image\n",
        "result_widget = widgets.Image(format='jpg')\n",
        "\n",
        "# Update the result widget with the filtered image\n",
        "result_widget.value = cv2.imencode('.jpg', result)[1].tobytes()\n",
        "\n",
        "# Combine the two widgets into an HBox for side-by-side display\n",
        "display(widgets.HBox([original_widget, result_widget]))\n"
      ],
      "metadata": {
        "id": "x4uYc_wpVsb6"
      },
      "execution_count": null,
      "outputs": []
    },
    {
      "cell_type": "code",
      "source": [
        "import cv2\n",
        "\n",
        "\n",
        "# Load the input image\n",
        "img = cv2.imread('dog-puppy-on-garden-royalty-free-image-1586966191.jpg')\n",
        "\n",
        "# Get the height and width of the image\n",
        "height, width = img.shape[:2]\n",
        "\n",
        "# Calculate the height of each vertical slice\n",
        "slice_height = height // 100\n",
        "\n",
        "# Create empty lists to hold the sliced images\n",
        "odd_slices = []\n",
        "even_slices = []\n",
        "\n",
        "# Loop through each slice and append it to the appropriate list\n",
        "for i in range(100):\n",
        "    # Define the start and end points for the slice\n",
        "    start_row = i * slice_height\n",
        "    end_row = start_row + slice_height\n",
        "    \n",
        "    # Slice the image\n",
        "    slice_img = img[start_row:end_row, :]\n",
        "    \n",
        "    # Append the slice to the appropriate list\n",
        "    if i % 2 == 0:\n",
        "        odd_slices.append(slice_img)\n",
        "    else:\n",
        "        even_slices.append(slice_img)\n",
        "\n",
        "# Concatenate the odd-numbered slices vertically to create the first image\n",
        "image1 = cv2.vconcat(odd_slices)\n",
        "\n",
        "# Concatenate the even-numbered slices vertically to create the second image\n",
        "image2 = cv2.vconcat(even_slices)\n",
        "\n",
        "cv2_imshow(image1)\n",
        "cv2_imshow(image2)\n",
        "cv2.waitKey(0)\n",
        "cv2.destroyAllWindows()"
      ],
      "metadata": {
        "id": "WHytUsjAWm0i"
      },
      "execution_count": null,
      "outputs": []
    },
    {
      "cell_type": "code",
      "source": [
        "import cv2\n",
        "\n",
        "# Load the input image\n",
        "img = cv2.imread('dog-puppy-on-garden-royalty-free-image-1586966191.jpg')\n",
        "\n",
        "# Get the height and width of the image\n",
        "height, width = img.shape[:2]\n",
        "\n",
        "# Calculate the height of each vertical slice\n",
        "slice_height = height // 100\n",
        "\n",
        "# Create empty lists to hold the sliced images\n",
        "odd_slices = []\n",
        "even_slices = []\n",
        "\n",
        "# Loop through each slice and append it to the appropriate list\n",
        "for i in range(100):\n",
        "    # Define the start and end points for the slice\n",
        "    start_row = i * slice_height\n",
        "    end_row = start_row + slice_height\n",
        "    \n",
        "    # Slice the image\n",
        "    slice_img = img[start_row:end_row, :]\n",
        "    \n",
        "    # Append the slice to the appropriate list\n",
        "    if i % 2 == 0:\n",
        "        odd_slices.append(slice_img)\n",
        "    else:\n",
        "        even_slices.append(slice_img)\n",
        "\n",
        "# Concatenate the odd-numbered slices vertically to create the first image\n",
        "image1 = cv2.vconcat(odd_slices)\n",
        "\n",
        "# Concatenate the even-numbered slices vertically to create the second image\n",
        "image2 = cv2.vconcat(even_slices)\n",
        "\n",
        "# Concatenate the two images horizontally to create the final image\n",
        "final_image = cv2.hconcat([image1, image2])\n",
        "\n",
        "# Display the final image\n",
        "cv2_imshow(final_image)\n",
        "cv2.waitKey(0)\n",
        "cv2.destroyAllWindows()\n",
        "\n",
        "\n",
        "img=final_image\n"
      ],
      "metadata": {
        "id": "2ZuPzrHCZ7pS"
      },
      "execution_count": null,
      "outputs": []
    },
    {
      "cell_type": "code",
      "source": [
        "height, width = img.shape[:2]\n",
        "\n",
        "# Calculate the height of each vertical slice\n",
        "slice_height = height // 100\n",
        "\n",
        "# Create empty lists to hold the sliced images\n",
        "odd_slices = []\n",
        "even_slices = []\n",
        "\n",
        "# Loop through each slice and append it to the appropriate list\n",
        "for i in range(100):\n",
        "    # Define the start and end points for the slice\n",
        "    start_row = i * slice_height\n",
        "    end_row = start_row + slice_height\n",
        "    \n",
        "    # Slice the image\n",
        "    slice_img = img[start_row:end_row, :]\n",
        "    \n",
        "    # Append the slice to the appropriate list\n",
        "    if i % 2 == 0:\n",
        "        odd_slices.append(slice_img)\n",
        "    else:\n",
        "        even_slices.append(slice_img)\n",
        "\n",
        "# Concatenate the odd-numbered slices vertically to create the first image\n",
        "image1 = cv2.vconcat(odd_slices)\n",
        "\n",
        "# Concatenate the even-numbered slices vertically to create the second image\n",
        "image2 = cv2.vconcat(even_slices)\n",
        "\n",
        "# Concatenate the two images horizontally to create the final image\n",
        "final_image = cv2.hconcat([image1, image2])\n",
        "\n",
        "# Display the final image\n",
        "cv2_imshow(final_image)\n",
        "cv2.waitKey(0)\n",
        "cv2.destroyAllWindows()\n"
      ],
      "metadata": {
        "id": "ycrg0oXvbk2X"
      },
      "execution_count": null,
      "outputs": []
    }
  ]
}